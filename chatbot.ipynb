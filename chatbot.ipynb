{
 "cells": [
  {
   "cell_type": "code",
   "execution_count": 13,
   "metadata": {},
   "outputs": [],
   "source": [
    "import pandas as pd\n",
    "import numpy as np\n",
    "import os\n",
    "from langchain.chat_models import ChatOpenAI\n",
    "from langchain_experimental.agents import create_pandas_dataframe_agent\n",
    "from langchain.agents.agent_types import AgentType"
   ]
  },
  {
   "cell_type": "code",
   "execution_count": 11,
   "metadata": {},
   "outputs": [],
   "source": [
    "from dotenv import load_dotenv\n",
    "load_dotenv()\n",
    "API_KEY = os.environ[\"OPENAI_API_KEY\"]"
   ]
  },
  {
   "cell_type": "code",
   "execution_count": 7,
   "metadata": {},
   "outputs": [
    {
     "data": {
      "text/html": [
       "<div>\n",
       "<style scoped>\n",
       "    .dataframe tbody tr th:only-of-type {\n",
       "        vertical-align: middle;\n",
       "    }\n",
       "\n",
       "    .dataframe tbody tr th {\n",
       "        vertical-align: top;\n",
       "    }\n",
       "\n",
       "    .dataframe thead th {\n",
       "        text-align: right;\n",
       "    }\n",
       "</style>\n",
       "<table border=\"1\" class=\"dataframe\">\n",
       "  <thead>\n",
       "    <tr style=\"text-align: right;\">\n",
       "      <th></th>\n",
       "      <th>id</th>\n",
       "      <th>completion_date</th>\n",
       "      <th>partner_name</th>\n",
       "      <th>deal_type</th>\n",
       "      <th>review_type</th>\n",
       "      <th>escalation_type</th>\n",
       "      <th>EDD_reviewer</th>\n",
       "      <th>EDD_measures</th>\n",
       "      <th>timestamp</th>\n",
       "    </tr>\n",
       "  </thead>\n",
       "  <tbody>\n",
       "    <tr>\n",
       "      <th>0</th>\n",
       "      <td>1</td>\n",
       "      <td>01-01-2023</td>\n",
       "      <td>Partner A</td>\n",
       "      <td>imt</td>\n",
       "      <td>fresh_onboarding</td>\n",
       "      <td>other_red_flags</td>\n",
       "      <td>neelima_routhu</td>\n",
       "      <td>document_review</td>\n",
       "      <td>01-01-2023 10:00</td>\n",
       "    </tr>\n",
       "    <tr>\n",
       "      <th>1</th>\n",
       "      <td>10</td>\n",
       "      <td>10-01-2023</td>\n",
       "      <td>Partner J</td>\n",
       "      <td>payments</td>\n",
       "      <td>periodic_review</td>\n",
       "      <td>other_red_flags</td>\n",
       "      <td>rohan_vazapully</td>\n",
       "      <td>aml_review</td>\n",
       "      <td>10-01-2023 19:00</td>\n",
       "    </tr>\n",
       "    <tr>\n",
       "      <th>2</th>\n",
       "      <td>11</td>\n",
       "      <td>11-01-2023</td>\n",
       "      <td>Partner K</td>\n",
       "      <td>issuance</td>\n",
       "      <td>fresh_onboarding</td>\n",
       "      <td>adverse_media</td>\n",
       "      <td>rahil_fw</td>\n",
       "      <td>audit_review</td>\n",
       "      <td>11-01-2023 10:00</td>\n",
       "    </tr>\n",
       "    <tr>\n",
       "      <th>3</th>\n",
       "      <td>12</td>\n",
       "      <td>12-01-2023</td>\n",
       "      <td>Partner L</td>\n",
       "      <td>vendor</td>\n",
       "      <td>periodic_review</td>\n",
       "      <td>high_risk</td>\n",
       "      <td>moustapha</td>\n",
       "      <td>feedback_review</td>\n",
       "      <td>12-01-2023 11:00</td>\n",
       "    </tr>\n",
       "    <tr>\n",
       "      <th>4</th>\n",
       "      <td>13</td>\n",
       "      <td>13-01-2023</td>\n",
       "      <td>Partner M</td>\n",
       "      <td>imt</td>\n",
       "      <td>fresh_onboarding</td>\n",
       "      <td>pep_association</td>\n",
       "      <td>laura_castillo</td>\n",
       "      <td>document_review</td>\n",
       "      <td>13-01-2023 12:00</td>\n",
       "    </tr>\n",
       "  </tbody>\n",
       "</table>\n",
       "</div>"
      ],
      "text/plain": [
       "   id completion_date partner_name deal_type       review_type  \\\n",
       "0   1      01-01-2023    Partner A       imt  fresh_onboarding   \n",
       "1  10      10-01-2023    Partner J  payments   periodic_review   \n",
       "2  11      11-01-2023    Partner K  issuance  fresh_onboarding   \n",
       "3  12      12-01-2023    Partner L    vendor   periodic_review   \n",
       "4  13      13-01-2023    Partner M       imt  fresh_onboarding   \n",
       "\n",
       "   escalation_type     EDD_reviewer     EDD_measures         timestamp  \n",
       "0  other_red_flags   neelima_routhu  document_review  01-01-2023 10:00  \n",
       "1  other_red_flags  rohan_vazapully       aml_review  10-01-2023 19:00  \n",
       "2    adverse_media         rahil_fw     audit_review  11-01-2023 10:00  \n",
       "3        high_risk        moustapha  feedback_review  12-01-2023 11:00  \n",
       "4  pep_association   laura_castillo  document_review  13-01-2023 12:00  "
      ]
     },
     "execution_count": 7,
     "metadata": {},
     "output_type": "execute_result"
    }
   ],
   "source": [
    "df = pd.read_csv(r\"C:\\AI-ML\\campus_x\\INTERVIEW_PREP\\Onboarding\\data\\main.csv\")\n",
    "df.head()"
   ]
  },
  {
   "cell_type": "code",
   "execution_count": 18,
   "metadata": {},
   "outputs": [],
   "source": [
    "chat = ChatOpenAI(openai_api_key = API_KEY, model_name= \"gpt-3.5\", temperature= 0.0)\n",
    "agent = create_pandas_dataframe_agent(chat, df, allow_dangerous_code=True)"
   ]
  },
  {
   "cell_type": "code",
   "execution_count": 25,
   "metadata": {},
   "outputs": [],
   "source": [
    "agent = create_pandas_dataframe_agent(\n",
    "    ChatOpenAI(temperature=0, model= \"gpt-3.5-turbo\"),\n",
    "    df,\n",
    "    verbose=True,\n",
    "    agent_type= AgentType.OPENAI_FUNCTIONS,\n",
    "    allow_dangerous_code=True\n",
    ")"
   ]
  },
  {
   "cell_type": "code",
   "execution_count": 27,
   "metadata": {},
   "outputs": [
    {
     "name": "stdout",
     "output_type": "stream",
     "text": [
      "\n",
      "\n",
      "\u001b[1m> Entering new AgentExecutor chain...\u001b[0m\n",
      "\u001b[32;1m\u001b[1;3m\n",
      "Invoking: `python_repl_ast` with `{'query': \"df['EDD_reviewer'].tolist()\"}`\n",
      "\n",
      "\n",
      "\u001b[0m\u001b[36;1m\u001b[1;3m['neelima_routhu', 'rohan_vazapully', 'rahil_fw', 'moustapha', 'laura_castillo', 'hityshi', 'neelima_routhu', 'francis_xavier', 'rohan_vazapully', 'rahil_fw', 'moustapha', 'francis_xavier', 'laura_castillo', 'hityshi', 'neelima_routhu', 'francis_xavier', 'rohan_vazapully', 'rahil_fw', 'moustapha', 'laura_castillo', 'hityshi', 'neelima_routhu', 'rohan_vazapully', 'francis_xavier', 'neelima_routhu', 'neelima_routhu', 'francis_xavier', 'rohan_vazapully', 'rahil_fw', 'moustapha', 'laura_castillo', 'hityshi', 'neelima_routhu', 'francis_xavier', 'rohan_vazapully', 'rohan_vazapully', 'rahil_fw', 'moustapha', 'laura_castillo', 'hityshi', 'neelima_routhu', 'francis_xavier', 'rohan_vazapully', 'rahil_fw', 'moustapha', 'laura_castillo', 'neelima_routhu', 'francis_xavier', 'rohan_vazapully', 'rahil_fw', 'moustapha', 'laura_castillo', 'hityshi', 'neelima_routhu', 'francis_xavier', 'rohan_vazapully', 'rahil_fw', 'moustapha', 'laura_castillo', 'hityshi', 'neelima_routhu', 'francis_xavier', 'rohan_vazapully', 'rahil_fw', 'moustapha', 'laura_castillo', 'hityshi', 'neelima_routhu', 'francis_xavier', 'rohan_vazapully', 'rahil_fw', 'moustapha', 'laura_castillo', 'hityshi', 'neelima_routhu', 'neelima_routhu', 'francis_xavier', 'francis_xavier', 'rohan_vazapully', 'rahil_fw', 'moustapha', 'rahil_fw', 'laura_castillo', 'hityshi', 'neelima_routhu', 'francis_xavier', 'rohan_vazapully', 'rahil_fw', 'moustapha', 'laura_castillo', 'hityshi', 'neelima_routhu', 'moustapha', 'francis_xavier', 'rohan_vazapully', 'rahil_fw', 'moustapha', 'laura_castillo', 'hityshi', 'neelima_routhu', 'francis_xavier', 'rohan_vazapully', 'rahil_fw', 'laura_castillo', 'moustapha', 'laura_castillo', 'hityshi', 'neelima_routhu', 'francis_xavier', 'rohan_vazapully', 'rahil_fw', 'moustapha', 'moustapha', 'laura_castillo', 'hityshi', 'hityshi', 'neelima_routhu', 'francis_xavier', 'neelima_routhu', 'moustapha', 'francis_xavier', 'laura_castillo', 'neelima_routhu', 'neelima_routhu', 'laura_castillo', 'rahil_fw']\u001b[0m\u001b[32;1m\u001b[1;3mThe names of the EDD_reviewers are:\n",
      "- neelima_routhu\n",
      "- rohan_vazapully\n",
      "- rahil_fw\n",
      "- moustapha\n",
      "- laura_castillo\n",
      "- hityshi\n",
      "- francis_xavier\u001b[0m\n",
      "\n",
      "\u001b[1m> Finished chain.\u001b[0m\n"
     ]
    },
    {
     "data": {
      "text/plain": [
       "'The names of the EDD_reviewers are:\\n- neelima_routhu\\n- rohan_vazapully\\n- rahil_fw\\n- moustapha\\n- laura_castillo\\n- hityshi\\n- francis_xavier'"
      ]
     },
     "execution_count": 27,
     "metadata": {},
     "output_type": "execute_result"
    }
   ],
   "source": [
    "agent.run(\"Give me the names of the EDD_reviewer\")"
   ]
  },
  {
   "cell_type": "code",
   "execution_count": 28,
   "metadata": {},
   "outputs": [
    {
     "name": "stdout",
     "output_type": "stream",
     "text": [
      "\n",
      "\n",
      "\u001b[1m> Entering new AgentExecutor chain...\u001b[0m\n",
      "\u001b[32;1m\u001b[1;3m\n",
      "Invoking: `python_repl_ast` with `{'query': \"df[df['EDD_reviewer'] == 'francis_xavier']['escalation_type'].count()\"}`\n",
      "\n",
      "\n",
      "\u001b[0m\u001b[36;1m\u001b[1;3m17\u001b[0m\u001b[32;1m\u001b[1;3mFrancis Xavier did 17 escalations.\u001b[0m\n",
      "\n",
      "\u001b[1m> Finished chain.\u001b[0m\n"
     ]
    },
    {
     "data": {
      "text/plain": [
       "'Francis Xavier did 17 escalations.'"
      ]
     },
     "execution_count": 28,
     "metadata": {},
     "output_type": "execute_result"
    }
   ],
   "source": [
    "agent.run(\"I want to know how many escalations francis_xavier did?\")"
   ]
  },
  {
   "cell_type": "code",
   "execution_count": 29,
   "metadata": {},
   "outputs": [
    {
     "name": "stdout",
     "output_type": "stream",
     "text": [
      "\n",
      "\n",
      "\u001b[1m> Entering new AgentExecutor chain...\u001b[0m\n",
      "\u001b[32;1m\u001b[1;3m\n",
      "Invoking: `python_repl_ast` with `{'query': \"df['total_review_count'] = df['escalation_type'] + df['EDD_measures']\\nbest_reviewer = df.groupby('EDD_reviewer')['total_review_count'].sum().idxmax()\\nbest_reviewer\"}`\n",
      "\n",
      "\n",
      "\u001b[0m\u001b[36;1m\u001b[1;3mfrancis_xavier\u001b[0m\u001b[32;1m\u001b[1;3mThe best performing reviewer in terms of escalation and EDD measures combined is Francis Xavier.\u001b[0m\n",
      "\n",
      "\u001b[1m> Finished chain.\u001b[0m\n"
     ]
    },
    {
     "data": {
      "text/plain": [
       "'The best performing reviewer in terms of escalation and EDD measures combined is Francis Xavier.'"
      ]
     },
     "execution_count": 29,
     "metadata": {},
     "output_type": "execute_result"
    }
   ],
   "source": [
    "agent.run(\"who is the best performing reviewer in terms of escalation and edd measures combined?\")"
   ]
  },
  {
   "cell_type": "code",
   "execution_count": 33,
   "metadata": {},
   "outputs": [],
   "source": [
    "from langchain.agents import create_sql_agent\n",
    "from langchain.agents.agent_toolkits import SQLDatabaseToolkit\n",
    "from langchain.sql_database import SQLDatabase\n",
    "import pandas as pd\n",
    "import mysql.connector"
   ]
  },
  {
   "cell_type": "code",
   "execution_count": 45,
   "metadata": {},
   "outputs": [],
   "source": [
    "llm = ChatOpenAI(temperature= 0, model = \"gpt-3.5-turbo\")\n",
    "file = \"florida-deathrow.sqlite\""
   ]
  },
  {
   "cell_type": "code",
   "execution_count": 37,
   "metadata": {},
   "outputs": [],
   "source": [
    "# Replace these with your actual MySQL server details\n",
    "MYSQL_HOST = \"localhost\"\n",
    "MYSQL_USER = \"root\"\n",
    "MYSQL_PASSWORD = \"root\"\n",
    "MYSQL_DATABASE = \"TERRAPAY\"\n",
    "\n",
    "def fetch_data():\n",
    "    try:\n",
    "        conn = mysql.connector.connect(\n",
    "            host=MYSQL_HOST,\n",
    "            user=MYSQL_USER,\n",
    "            password=MYSQL_PASSWORD,\n",
    "            database=MYSQL_DATABASE\n",
    "        )\n",
    "        query = \"SELECT * FROM onboarding\"\n",
    "        df = pd.read_sql(query, conn)\n",
    "        conn.close()\n",
    "        return df\n",
    "    except mysql.connector.Error as err:\n",
    "        print(f\"Error fetching data: {err}\")\n",
    "        return pd.DataFrame()"
   ]
  },
  {
   "cell_type": "code",
   "execution_count": null,
   "metadata": {},
   "outputs": [],
   "source": [
    "data = fetch_data()\n",
    "data.head(2)"
   ]
  },
  {
   "cell_type": "code",
   "execution_count": 46,
   "metadata": {},
   "outputs": [],
   "source": [
    "connection_uri = f\"mysql+mysqlconnector://{MYSQL_USER}:{MYSQL_PASSWORD}@{MYSQL_HOST}:{3306}/{MYSQL_DATABASE}\""
   ]
  },
  {
   "cell_type": "code",
   "execution_count": 49,
   "metadata": {},
   "outputs": [],
   "source": [
    "db = SQLDatabase.from_uri(\"connection_uri\")\n",
    "toolkit=SQLDatabaseToolkit(db=db, llm=llm)"
   ]
  },
  {
   "cell_type": "code",
   "execution_count": 51,
   "metadata": {},
   "outputs": [],
   "source": [
    "agent_executor = create_sql_agent(\n",
    "    llm=llm,\n",
    "    toolkit=toolkit,\n",
    "    verbose=True,\n",
    "    agent_type=AgentType.ZERO_SHOT_REACT_DESCRIPTION\n",
    "    \n",
    ")"
   ]
  },
  {
   "cell_type": "code",
   "execution_count": 52,
   "metadata": {},
   "outputs": [
    {
     "name": "stdout",
     "output_type": "stream",
     "text": [
      "\n",
      "\n",
      "\u001b[1m> Entering new SQL Agent Executor chain...\u001b[0m\n",
      "\u001b[32;1m\u001b[1;3mI should use the sql_db_schema tool to get the schema and sample rows for the table\n",
      "Action: sql_db_schema\n",
      "Action Input: table_name\u001b[0m\u001b[33;1m\u001b[1;3mError: table_names {'table_name'} not found in database\u001b[0m\u001b[32;1m\u001b[1;3mI should first check the list of tables in the database to ensure I am using the correct table name\n",
      "Action: sql_db_list_tables\n",
      "Action Input: \u001b[0m\u001b[38;5;200m\u001b[1;3mentries, onboarding, uploads\u001b[0m\u001b[32;1m\u001b[1;3mI should now use the sql_db_schema tool with the correct table name\n",
      "Action: sql_db_schema\n",
      "Action Input: entries\u001b[0m\u001b[33;1m\u001b[1;3m\n",
      "CREATE TABLE entries (\n",
      "\tid VARCHAR(255) NOT NULL, \n",
      "\tcompletion_date DATE, \n",
      "\tpartner_name VARCHAR(255), \n",
      "\tdeal_type VARCHAR(255), \n",
      "\treview_type VARCHAR(255), \n",
      "\tescalation_type VARCHAR(255), \n",
      "\t`EDD_reviewer` VARCHAR(255), \n",
      "\t`EDD_measures` VARCHAR(255), \n",
      "\ttimestamp TIMESTAMP NULL, \n",
      "\tPRIMARY KEY (id)\n",
      ")DEFAULT CHARSET=utf8mb4 ENGINE=InnoDB COLLATE utf8mb4_0900_ai_ci\n",
      "\n",
      "/*\n",
      "3 rows from entries table:\n",
      "id\tcompletion_date\tpartner_name\tdeal_type\treview_type\tescalation_type\tEDD_reviewer\tEDD_measures\ttimestamp\n",
      "34a154f1-a6d3-43cc-a81b-45552f26cc56\t2024-07-11\taa\timt\tfresh_onboarding\tother_red_flags\tneelima_routhu\tdocument_review\t2024-07-11 18:05:37\n",
      "534c85aa-95bc-4d88-b01b-6a85f22fcb6b\t2024-05-09\tindia post\tissuance\tperiodic_review\tother_red_flags\tmoustapha\taudit_review\t2024-07-11 18:01:31\n",
      "d898d50a-b47c-4e25-a8f6-a5a111e7d136\t2024-05-09\tindia post\tissuance\tperiodic_review\tother_red_flags\tmoustapha\taudit_review\t2024-07-11 17:56:54\n",
      "*/\u001b[0m\u001b[32;1m\u001b[1;3mI now know the schema and sample rows for the \"entries\" table.\n",
      "Final Answer: The \"entries\" table has columns id, completion_date, partner_name, deal_type, review_type, escalation_type, EDD_reviewer, EDD_measures, and timestamp.\u001b[0m\n",
      "\n",
      "\u001b[1m> Finished chain.\u001b[0m\n"
     ]
    },
    {
     "data": {
      "text/plain": [
       "'The \"entries\" table has columns id, completion_date, partner_name, deal_type, review_type, escalation_type, EDD_reviewer, EDD_measures, and timestamp.'"
      ]
     },
     "execution_count": 52,
     "metadata": {},
     "output_type": "execute_result"
    }
   ],
   "source": [
    "agent_executor.run(\"describe the table\")"
   ]
  },
  {
   "cell_type": "code",
   "execution_count": 53,
   "metadata": {},
   "outputs": [
    {
     "name": "stdout",
     "output_type": "stream",
     "text": [
      "\n",
      "\n",
      "\u001b[1m> Entering new SQL Agent Executor chain...\u001b[0m\n",
      "\u001b[32;1m\u001b[1;3mI need to first check the tables available in the database and then query the onboarding table to find the best performing reviewer for the month of May.\n",
      "Action: sql_db_list_tables\n",
      "Action Input: \u001b[0m\u001b[38;5;200m\u001b[1;3mentries, onboarding, uploads\u001b[0m\u001b[32;1m\u001b[1;3mI need to check the schema of the onboarding table to see what fields are available for me to use in my query.\n",
      "Action: sql_db_schema\n",
      "Action Input: onboarding\u001b[0m\u001b[33;1m\u001b[1;3m\n",
      "CREATE TABLE onboarding (\n",
      "\tid VARCHAR(255) NOT NULL, \n",
      "\tcompletion_date DATE, \n",
      "\tpartner_name VARCHAR(255), \n",
      "\tdeal_type VARCHAR(255), \n",
      "\treview_type VARCHAR(255), \n",
      "\tescalation_type VARCHAR(255), \n",
      "\t`EDD_reviewer` VARCHAR(255), \n",
      "\t`EDD_measures` VARCHAR(255), \n",
      "\ttimestamp TIMESTAMP NULL, \n",
      "\tPRIMARY KEY (id)\n",
      ")DEFAULT CHARSET=utf8mb4 ENGINE=InnoDB COLLATE utf8mb4_0900_ai_ci\n",
      "\n",
      "/*\n",
      "3 rows from onboarding table:\n",
      "id\tcompletion_date\tpartner_name\tdeal_type\treview_type\tescalation_type\tEDD_reviewer\tEDD_measures\ttimestamp\n",
      "1\t2023-01-01\tPartner A\timt\tfresh_onboarding\tother_red_flags\tneelima_routhu\tdocument_review\t2023-01-01 10:00:00\n",
      "10\t2023-01-10\tPartner J\tpayments\tperiodic_review\tother_red_flags\trohan_vazapully\taml_review\t2023-01-10 19:00:00\n",
      "11\t2023-01-11\tPartner K\tissuance\tfresh_onboarding\tadverse_media\trahil_fw\taudit_review\t2023-01-11 10:00:00\n",
      "*/\u001b[0m\u001b[32;1m\u001b[1;3mI can see that the EDD_reviewer field contains the reviewers' names. I can now query the onboarding table to find the best performing reviewer for the month of May.\n",
      "Action: sql_db_query\n",
      "Action Input: SELECT EDD_reviewer, COUNT(*) AS total_reviews FROM onboarding WHERE MONTH(completion_date) = 5 GROUP BY EDD_reviewer ORDER BY total_reviews DESC LIMIT 1\u001b[0m\u001b[36;1m\u001b[1;3m[('neelima_routhu', 1)]\u001b[0m\u001b[32;1m\u001b[1;3mThe best performing reviewer from the onboarding table for the month of May is neelima_routhu.\n",
      "Final Answer: neelima_routhu\u001b[0m\n",
      "\n",
      "\u001b[1m> Finished chain.\u001b[0m\n"
     ]
    },
    {
     "data": {
      "text/plain": [
       "'neelima_routhu'"
      ]
     },
     "execution_count": 53,
     "metadata": {},
     "output_type": "execute_result"
    }
   ],
   "source": [
    "agent_executor.run(\"find the best performing reviewer from the onboarding table for the month of may\")"
   ]
  }
 ],
 "metadata": {
  "kernelspec": {
   "display_name": "Python 3",
   "language": "python",
   "name": "python3"
  },
  "language_info": {
   "codemirror_mode": {
    "name": "ipython",
    "version": 3
   },
   "file_extension": ".py",
   "mimetype": "text/x-python",
   "name": "python",
   "nbconvert_exporter": "python",
   "pygments_lexer": "ipython3",
   "version": "3.10.14"
  }
 },
 "nbformat": 4,
 "nbformat_minor": 2
}
